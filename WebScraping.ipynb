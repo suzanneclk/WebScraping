{
 "cells": [
  {
   "cell_type": "code",
   "execution_count": 2,
   "id": "e434f7db",
   "metadata": {},
   "outputs": [],
   "source": [
    "#import stuff\n",
    "import requests\n",
    "import pandas as pd\n",
    "from bs4 import BeautifulSoup"
   ]
  },
  {
   "cell_type": "code",
   "execution_count": 3,
   "id": "a1c06e44",
   "metadata": {},
   "outputs": [
    {
     "name": "stdout",
     "output_type": "stream",
     "text": [
      "<!DOCTYPE html>\n",
      "<!--\n",
      "    Plain-Academic by Vasilios Mavroudis\n",
      "    Released under the Simplified BSD License/FreeBSD (2-clause) License.\n",
      "    https://github.com/mavroudisv/plain-academic\n",
      "-->\n",
      "\n",
      "<html lang=\"en\">\n",
      "<head>\n",
      "  <title>Python Web Scraping</title>\n",
      "  <meta charset=\"utf-8\">\n",
      "  <meta name=\"viewport\" content=\"width=device-width, initial-scale=1\">\n",
      "  <link rel=\"stylesheet\" href=\"https://maxcdn.bootstrapcdn.com/bootstrap/3.3.6/css/bootstrap.min.css\">\n",
      "  <script src=\"https://ajax.googleapis.com/ajax/libs/jquery/1.12.0/jquery.min.js\"></script>\n",
      "  <script src=\"https://maxcdn.bootstrapcdn.com/bootstrap/3.3.6/js/bootstrap.min.js\"></script>\n",
      "  <link href='https://fonts.googleapis.com/css?family=Oswald:700' rel='stylesheet' type='text/css'>\n",
      "\n",
      "<style>\n",
      "table {\n",
      "  font-family: arial, sans-serif;\n",
      "  border-collapse: collapse;\n",
      "  width: 100%;\n",
      "}\n",
      "\n",
      "td, th {\n",
      "  border: 1px solid #dddddd;\n",
      "  text-align: left;\n",
      "  padding: 8px;\n",
      "}\n",
      "\n",
      "tr:nth-child(even) {\n",
      "  background-color: #dddddd;\n",
      "}\n",
      "</style>\n",
      "\n",
      "\n",
      "</head>\n",
      "<body>\n",
      "\n",
      "\n",
      "<!-- Navigation -->\n",
      "\t<nav class=\"navbar navbar-inverse navbar-static-top\" role=\"navigation\">\n",
      "\t  <div class=\"container\">\n",
      "\t\t<div class=\"navbar-header\">\n",
      "\t\t  <button type=\"button\" class=\"navbar-toggle collapsed\" data-toggle=\"collapse\" data-target=\"#bs-example-navbar-collapse-1\">\n",
      "\t\t\t\t\t\t<span class=\"sr-only\">Toggle navigation</span>\n",
      "\t\t\t\t\t\t<span class=\"icon-bar\"></span>\n",
      "\t\t\t\t\t\t<span class=\"icon-bar\"></span>\n",
      "\t\t\t\t\t\t<span class=\"icon-bar\"></span>\n",
      "\t\t\t\t\t</button>\n",
      "\t\t</div>\n",
      "\n",
      "\t\t<!-- Collect the nav links, forms, and other content for toggling -->\n",
      "\t\t<div class=\"collapse navbar-collapse\" id=\"bs-example-navbar-collapse-1\">\n",
      "\t\t  <ul class=\"nav navbar-nav\">\n",
      "\t\t\t\t  <li><a href=\"index.html\">Home</a></li>\n",
      "\t\t\t\t  <li><a href=\"#\">Projects</a></li>\n",
      "\t\t\t\t  <li><a href=\"#publications\">Publications</a></li> \n",
      "\t\t\t\t  <li><a href=\"#\">CV</a></li> \n",
      "\t\t  </ul>\n",
      "\t\t</div>\n",
      "\t  </div>\n",
      "\t</nav>\n",
      "  \n",
      "  <!-- Page Content -->\n",
      "    <div class=\"container\">\n",
      "\n",
      "        <div class=\"row\">\n",
      "\n",
      "            <!-- Entries Column -->\n",
      "            <div class=\"col-md-8\" style=\"height: 100vh;\">\n",
      "                \n",
      "                <!-- Main Image -->\n",
      "                <img class=\"img-responsive\" src=\"photo.gif\" alt=\"\"><br>\n",
      "                \n",
      "                <div style=\"margin-top:3%; text-align:justify;\">                \n",
      "\t\t\t\t\t\n",
      "\n",
      "\n",
      "<h2>Web Scraping Assignment:</b></h2>\n",
      "\n",
      "<ol> \n",
      "<li>Scrape the table below using the BeautifulSoup library. Use the examples posted in Canvas.</li>\n",
      "<li> store the informaton into a pandas dataframe.</li>\n",
      "<li>Save your code in a Jupyter notebook file.</li>\n",
      "<li>Upload your .ipynb file into your personal Github repository. Make sure to write a brief README.md file.</li>\n",
      "<li>Upload the Github link on Canvas.</li>\n",
      "</ol>\n",
      "\n",
      "<hr>\n",
      "\n",
      "<h3>Table</h3>\n",
      "<br>\n",
      "\n",
      "<table>\n",
      "  <tr>\n",
      "    <th>Student</th>\n",
      "    <th>Favourite Computer Language</th>\n",
      "    <th>Years of Experience</th>\n",
      "  </tr>\n",
      "  <tr>\n",
      "    <td>Fred</td>\n",
      "    <td>Kotlin</td>\n",
      "    <td>4</td>\n",
      "  </tr>\n",
      "  <tr>\n",
      "    <td>Paula</td>\n",
      "    <td>Python</td>\n",
      "    <td>2</td>\n",
      "  </tr>\n",
      "  <tr>\n",
      "    <td>Ernst</td>\n",
      "    <td>Java</td>\n",
      "    <td>7</td>\n",
      "  </tr>\n",
      "  <tr>\n",
      "    <td>Isabel</td>\n",
      "    <td>C++</td>\n",
      "    <td>3</td>\n",
      "  </tr>\n",
      "  <tr>\n",
      "    <td>Tony</td>\n",
      "    <td>Pearl</td>\n",
      "    <td>7</td>\n",
      "  </tr>\n",
      "  <tr>\n",
      "    <td>Maria</td>\n",
      "    <td>Cobol</td>\n",
      "    <td>15</td>\n",
      "\n",
      "\n",
      "</table>\n",
      "                </div>\n",
      "            </div> \n",
      "\n",
      "</head>\n",
      "<body>\n",
      "\n",
      "\n",
      "\n",
      "            <!-- Contact Info on the Sidebar -->\n",
      "            <div class=\"col-md-4\">\n",
      "                <div style=\"font-family: 'Oswald', sans-serif; font-size: 32px;\"><b>Marco Scipioni</b></div><br>\n",
      "                <p><b>Email:</b> mscipion at uncc.edu<br>\n",
      "                   <b>Department:</b> School of Data Science <br>\n",
      "                   <b>Institution:</b> University of North Carolina at Charlotte</br>\n",
      "                </p>\n",
      "            </div>\n",
      "            \n",
      "            \n",
      "            <!-- Links on the Sidebar -->\n",
      "            <div class=\"col-md-4\" style=\"margin-top:1%\">\n",
      "              <dd><a href=\"https://sds.charlotte.edu/directory/marco-scipioni/\">UNCC Webpage</a></dd> \n",
      "              <dd><a href=\"https://www.linkedin.com/in/marco-scipioni-21895826/\">LinkedIn</a></dd>\n",
      "            </div>\n",
      "            \n",
      "            \n",
      "          \n",
      "\n",
      "            \n",
      "        </div>\n",
      "\n",
      "\n",
      "    </div>\n",
      "    <!-- /.container -->\n",
      "    \n",
      "    <!-- Other people may like it too! -->\n",
      "    <a style=\"color:#b5bec9;font-size:0.8em; float:right;\" href=\"https://github.com/mavroudisv/plain-academic\">Plain Academic</a> \n",
      "\n",
      "\n",
      "    \n",
      "</body>\n",
      "\n",
      "</html>\n",
      "\n"
     ]
    }
   ],
   "source": [
    "#find the website\n",
    "r = requests.get(\"https://webpages.charlotte.edu/mscipion/\")\n",
    "print(r.text)"
   ]
  },
  {
   "cell_type": "code",
   "execution_count": 4,
   "id": "db02673a",
   "metadata": {},
   "outputs": [],
   "source": [
    "#find the table\n",
    "soup = BeautifulSoup(r.text, \"lxml\")"
   ]
  },
  {
   "cell_type": "code",
   "execution_count": 5,
   "id": "3a408e61",
   "metadata": {},
   "outputs": [
    {
     "name": "stdout",
     "output_type": "stream",
     "text": [
      "<table>\n",
      "<tr>\n",
      "<th>Student</th>\n",
      "<th>Favourite Computer Language</th>\n",
      "<th>Years of Experience</th>\n",
      "</tr>\n",
      "<tr>\n",
      "<td>Fred</td>\n",
      "<td>Kotlin</td>\n",
      "<td>4</td>\n",
      "</tr>\n",
      "<tr>\n",
      "<td>Paula</td>\n",
      "<td>Python</td>\n",
      "<td>2</td>\n",
      "</tr>\n",
      "<tr>\n",
      "<td>Ernst</td>\n",
      "<td>Java</td>\n",
      "<td>7</td>\n",
      "</tr>\n",
      "<tr>\n",
      "<td>Isabel</td>\n",
      "<td>C++</td>\n",
      "<td>3</td>\n",
      "</tr>\n",
      "<tr>\n",
      "<td>Tony</td>\n",
      "<td>Pearl</td>\n",
      "<td>7</td>\n",
      "</tr>\n",
      "<tr>\n",
      "<td>Maria</td>\n",
      "<td>Cobol</td>\n",
      "<td>15</td>\n",
      "</tr></table>\n"
     ]
    }
   ],
   "source": [
    "table = soup.find(\"table\")\n",
    "\n",
    "print(table)"
   ]
  },
  {
   "cell_type": "code",
   "execution_count": 6,
   "id": "a2c99144",
   "metadata": {},
   "outputs": [
    {
     "name": "stdout",
     "output_type": "stream",
     "text": [
      "[<th>Student</th>, <th>Favourite Computer Language</th>, <th>Years of Experience</th>]\n"
     ]
    }
   ],
   "source": [
    "#get the headers\n",
    "headers = table.find_all(\"th\")\n",
    "print(headers)"
   ]
  },
  {
   "cell_type": "code",
   "execution_count": 7,
   "id": "e84e1379",
   "metadata": {},
   "outputs": [
    {
     "name": "stdout",
     "output_type": "stream",
     "text": [
      "[<td>Fred</td>, <td>Kotlin</td>, <td>4</td>, <td>Paula</td>, <td>Python</td>, <td>2</td>, <td>Ernst</td>, <td>Java</td>, <td>7</td>, <td>Isabel</td>, <td>C++</td>, <td>3</td>, <td>Tony</td>, <td>Pearl</td>, <td>7</td>, <td>Maria</td>, <td>Cobol</td>, <td>15</td>]\n"
     ]
    }
   ],
   "source": [
    "#get the data\n",
    "data = table.find_all(\"td\")\n",
    "print(data)"
   ]
  },
  {
   "cell_type": "code",
   "execution_count": 8,
   "id": "7d1d9026",
   "metadata": {},
   "outputs": [
    {
     "name": "stdout",
     "output_type": "stream",
     "text": [
      "['Student', 'Favourite Computer Language', 'Years of Experience']\n",
      "['Fred', 'Kotlin', '4', 'Paula', 'Python', '2', 'Ernst', 'Java', '7', 'Isabel', 'C++', '3', 'Tony', 'Pearl', '7', 'Maria', 'Cobol', '15']\n"
     ]
    }
   ],
   "source": [
    "#clean the lists\n",
    "titles = [i.text for i in headers]\n",
    "stuff = [i.text for i in data]\n",
    "print(titles)\n",
    "print(stuff)"
   ]
  },
  {
   "cell_type": "code",
   "execution_count": 11,
   "id": "d57c6dbe",
   "metadata": {
    "scrolled": true
   },
   "outputs": [
    {
     "name": "stdout",
     "output_type": "stream",
     "text": [
      "[['Fred', 'Kotlin', '4'], ['Paula', 'Python', '2'], ['Ernst', 'Java', '7'], ['Isabel', 'C++', '3'], ['Tony', 'Pearl', '7'], ['Maria', 'Cobol', '15']]\n"
     ]
    }
   ],
   "source": [
    "#testing stuff from ChatGPT\n",
    "num_rows = len(stuff) // 2 \n",
    "reshaped_list = [stuff[i:i+3] for i in range(0, len(stuff), 3)]\n",
    "print(reshaped_list)"
   ]
  },
  {
   "cell_type": "code",
   "execution_count": 13,
   "id": "8c6d0f47",
   "metadata": {},
   "outputs": [
    {
     "data": {
      "text/html": [
       "<div>\n",
       "<style scoped>\n",
       "    .dataframe tbody tr th:only-of-type {\n",
       "        vertical-align: middle;\n",
       "    }\n",
       "\n",
       "    .dataframe tbody tr th {\n",
       "        vertical-align: top;\n",
       "    }\n",
       "\n",
       "    .dataframe thead th {\n",
       "        text-align: right;\n",
       "    }\n",
       "</style>\n",
       "<table border=\"1\" class=\"dataframe\">\n",
       "  <thead>\n",
       "    <tr style=\"text-align: right;\">\n",
       "      <th></th>\n",
       "      <th>Student</th>\n",
       "      <th>Favourite Computer Language</th>\n",
       "      <th>Years of Experience</th>\n",
       "    </tr>\n",
       "  </thead>\n",
       "  <tbody>\n",
       "    <tr>\n",
       "      <th>0</th>\n",
       "      <td>Fred</td>\n",
       "      <td>Kotlin</td>\n",
       "      <td>4</td>\n",
       "    </tr>\n",
       "    <tr>\n",
       "      <th>1</th>\n",
       "      <td>Paula</td>\n",
       "      <td>Python</td>\n",
       "      <td>2</td>\n",
       "    </tr>\n",
       "    <tr>\n",
       "      <th>2</th>\n",
       "      <td>Ernst</td>\n",
       "      <td>Java</td>\n",
       "      <td>7</td>\n",
       "    </tr>\n",
       "    <tr>\n",
       "      <th>3</th>\n",
       "      <td>Isabel</td>\n",
       "      <td>C++</td>\n",
       "      <td>3</td>\n",
       "    </tr>\n",
       "    <tr>\n",
       "      <th>4</th>\n",
       "      <td>Tony</td>\n",
       "      <td>Pearl</td>\n",
       "      <td>7</td>\n",
       "    </tr>\n",
       "    <tr>\n",
       "      <th>5</th>\n",
       "      <td>Maria</td>\n",
       "      <td>Cobol</td>\n",
       "      <td>15</td>\n",
       "    </tr>\n",
       "  </tbody>\n",
       "</table>\n",
       "</div>"
      ],
      "text/plain": [
       "  Student Favourite Computer Language Years of Experience\n",
       "0    Fred                      Kotlin                   4\n",
       "1   Paula                      Python                   2\n",
       "2   Ernst                        Java                   7\n",
       "3  Isabel                         C++                   3\n",
       "4    Tony                       Pearl                   7\n",
       "5   Maria                       Cobol                  15"
      ]
     },
     "execution_count": 13,
     "metadata": {},
     "output_type": "execute_result"
    }
   ],
   "source": [
    "df = pd.DataFrame(reshaped_list, columns= titles)\n",
    "df"
   ]
  }
 ],
 "metadata": {
  "kernelspec": {
   "display_name": "Python 3 (ipykernel)",
   "language": "python",
   "name": "python3"
  },
  "language_info": {
   "codemirror_mode": {
    "name": "ipython",
    "version": 3
   },
   "file_extension": ".py",
   "mimetype": "text/x-python",
   "name": "python",
   "nbconvert_exporter": "python",
   "pygments_lexer": "ipython3",
   "version": "3.9.12"
  }
 },
 "nbformat": 4,
 "nbformat_minor": 5
}
